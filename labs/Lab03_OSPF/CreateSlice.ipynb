{
 "cells": [
  {
   "cell_type": "markdown",
   "id": "5f373d6e-223a-479a-971c-c39c02aa1390",
   "metadata": {},
   "source": [
    "# Create Slice for Fabric Rack\n",
    "This is the slice creation for the ```OSPF``` tutorial, This is the first step of the assignment, to create the slice on fabric using fablib\n",
    " "
   ]
  },
  {
   "cell_type": "code",
   "execution_count": null,
   "id": "3e84a125-c5f8-4b38-ada2-b585ee5a83ab",
   "metadata": {},
   "outputs": [],
   "source": [
    "from fabrictestbed_extensions.fablib.fablib import FablibManager as fablib_manager\n",
    "\n",
    "fablib = fablib_manager()\n",
    "                     \n",
    "fablib.show_config()\n",
    "\n",
    "import json\n",
    "import traceback"
   ]
  },
  {
   "cell_type": "code",
   "execution_count": null,
   "id": "c750ec14-1761-4592-8530-78edd3968a4a",
   "metadata": {},
   "outputs": [],
   "source": [
    "slice_name = \"OSPF\"\n",
    "site = \"EDUKY\"\n",
    "\n",
    "nicmodel = \"NIC_Basic\"\n",
    "image = \"default_ubuntu_20\"\n",
    "\n",
    "cores = 1\n",
    "ram = 4\n",
    "disk = 10"
   ]
  },
  {
   "cell_type": "code",
   "execution_count": null,
   "id": "a206b6be-d3f8-4e6f-ab42-f0ea79c23d7b",
   "metadata": {},
   "outputs": [],
   "source": [
    "#A topology with 4 nodes to be setup as OSPF routers with 4 connections setup in a ring.\n",
    "try:\n",
    "    #Create Slice\n",
    "    slice = fablib.new_slice(name=slice_name)\n",
    "    \n",
    "    #Node A\n",
    "    A = slice.add_node(name=\"ND_A\", site=site)\n",
    "    A.set_image(image)\n",
    "    AP1 = A.add_component(model='NIC_Basic', name=\"APort1\").get_interfaces()[0] \n",
    "    AP2 = A.add_component(model='NIC_Basic', name=\"APort2\").get_interfaces()[0]\n",
    "    \n",
    "    #Node B\n",
    "    B = slice.add_node(name=\"ND_B\", site=site)\n",
    "    B.set_image(image)\n",
    "    BP1 = B.add_component(model=nicmodel, name=\"BPort1\").get_interfaces()[0] \n",
    "    BP2 = B.add_component(model=nicmodel, name=\"BPort2\").get_interfaces()[0]\n",
    "    \n",
    "    #Node C\n",
    "    C = slice.add_node(name=\"ND_C\", site=site)\n",
    "    C.set_image(image)\n",
    "    CP1 = C.add_component(model=nicmodel, name=\"CPort1\").get_interfaces()[0] \n",
    "    CP2 = C.add_component(model=nicmodel, name=\"CPort2\").get_interfaces()[0]\n",
    "    \n",
    "    #Node D\n",
    "    D = slice.add_node(name=\"ND_D\", site=site)\n",
    "    D.set_image(image)\n",
    "    DP1 = D.add_component(model=nicmodel, name=\"DPort1\").get_interfaces()[0] \n",
    "    DP2 = D.add_component(model=nicmodel, name=\"DPort2\").get_interfaces()[0]\n",
    "    \n",
    "    Lan1 = slice.add_l2network(name=\"Lan1\", interfaces=[AP1, BP1])\n",
    "    Lan2 = slice.add_l2network(name=\"Lan2\", interfaces=[BP2, CP1])\n",
    "    Lan3 = slice.add_l2network(name=\"Lan3\", interfaces=[CP2, DP1])\n",
    "    Lan4 = slice.add_l2network(name=\"Lan4\", interfaces=[DP2, AP2])\n",
    "    \n",
    "    #Submit Slice Request\n",
    "    slice.submit()\n",
    "except Exception as e:\n",
    "    print(f\"Slice Failed: {e}\")"
   ]
  },
  {
   "cell_type": "markdown",
   "id": "f60750e1-b1a9-4892-970b-ded9f21475da",
   "metadata": {
    "tags": []
   },
   "source": [
    "## Continue to the experiment notebook\n",
    "\n",
    "Once You have completed this notebook you should be able to continue to the OSPF Notebook, you can either open it on the explorer or click [Here](./OSPF.ipynb) to open the next notebook."
   ]
  },
  {
   "cell_type": "code",
   "execution_count": null,
   "id": "ec0e6a4b-b487-4a11-8d2a-835da0786a56",
   "metadata": {},
   "outputs": [],
   "source": []
  }
 ],
 "metadata": {
  "kernelspec": {
   "display_name": "Python 3 (ipykernel)",
   "language": "python",
   "name": "python3"
  },
  "language_info": {
   "codemirror_mode": {
    "name": "ipython",
    "version": 3
   },
   "file_extension": ".py",
   "mimetype": "text/x-python",
   "name": "python",
   "nbconvert_exporter": "python",
   "pygments_lexer": "ipython3",
   "version": "3.10.6"
  }
 },
 "nbformat": 4,
 "nbformat_minor": 5
}
