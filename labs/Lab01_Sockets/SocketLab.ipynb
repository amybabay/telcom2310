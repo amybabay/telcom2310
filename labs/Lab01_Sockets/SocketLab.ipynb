{
 "cells": [
  {
   "cell_type": "markdown",
   "id": "61856300-d7f4-4cc8-b5f9-5490fee46a53",
   "metadata": {
    "tags": []
   },
   "source": [
    "# Lab 1: Sockets\n",
    "    \n",
    "In this lab you will experiment with basic client-server programs.\n",
    "    \n",
    "<b> Prerequisites  \n",
    "    \n",
    "* You need to have your FABRIC JupyterHub Environment setup as described in the [Fabric Setup](../../Fabric_Setup.md).\n",
    "* You should be comfortable using ssh and executing basic commands using a UNIX shell. [Tips about how to login to hosts.](https://learn.fabric-testbed.net/knowledge-base/logging-into-fabric-vms/)\n",
    "\n",
    "Note that this is the second step in this assignment. If you have not already created your slice, go to slice creation notebook or click [Here](./CreateSlice.ipynb)"
   ]
  },
  {
   "cell_type": "markdown",
   "id": "465f9929-6e09-4e67-8379-be6419b62fcd",
   "metadata": {},
   "source": [
    "## 1. Set up the Experiment\n"
   ]
  },
  {
   "cell_type": "markdown",
   "id": "b800f09d-94b1-4f51-ba2d-eceb4ff34e4a",
   "metadata": {},
   "source": [
    "### 1.1  Retrieve Slice\n",
    "Import the slice you created in the [Create Slice Notebook](./CreateSlice.ipynb).\n"
   ]
  },
  {
   "cell_type": "code",
   "execution_count": null,
   "id": "4622807f-d315-4d10-8f7a-69f763e926ae",
   "metadata": {},
   "outputs": [],
   "source": [
    "from fabrictestbed_extensions.fablib.fablib import FablibManager as fablib_manager\n",
    "\n",
    "fablib = fablib_manager()\n",
    "                     \n",
    "fablib.show_config()\n",
    "\n",
    "import json\n",
    "import traceback"
   ]
  },
  {
   "cell_type": "code",
   "execution_count": null,
   "id": "968dbb3f-f033-4989-96df-8b0956eed211",
   "metadata": {},
   "outputs": [],
   "source": [
    "slice_name = \"Lab01_Sockets\"\n",
    "slice = fablib.get_slice(slice_name)\n",
    "slice.list_nodes()"
   ]
  },
  {
   "cell_type": "code",
   "execution_count": null,
   "id": "40e93cf0-9dac-40c0-9c19-66ec832367d5",
   "metadata": {},
   "outputs": [],
   "source": [
    "# Get geographic coordinates for each node\n",
    "for node in slice.get_nodes():\n",
    "    print(node.get_name())\n",
    "    site = node.get_site()\n",
    "    fablib.show_site(site, fields=['name','location'])"
   ]
  },
  {
   "cell_type": "markdown",
   "id": "778ffb93-1106-4688-81de-38c2f1665ec6",
   "metadata": {},
   "source": [
    "Make a note of the geographic coordinates of each of your nodes, as listed in the output tables above. **Record the coordinates in Lab1.docx**"
   ]
  },
  {
   "cell_type": "markdown",
   "id": "f817b5a8-20c7-4585-971d-d37bee9edd4a",
   "metadata": {},
   "source": [
    "### 1.2 Upload files\n",
    "Upload test programs to each node."
   ]
  },
  {
   "cell_type": "code",
   "execution_count": null,
   "id": "f8369b80-9627-4f3d-821a-c5997e382688",
   "metadata": {
    "scrolled": true,
    "tags": []
   },
   "outputs": [],
   "source": [
    "for node in slice.get_nodes():\n",
    "    \n",
    "    node.upload_file(\"testprogs/UDP_Echo_Client.py\",\"UDP_Echo_Client.py\")\n",
    "    node.upload_file(\"testprogs/UDP_Echo_Server.py\",\"UDP_Echo_Server.py\")\n",
    "    \n",
    "    node.upload_file(\"testprogs/TCP_Echo_Client.py\",\"TCP_Echo_Client.py\")\n",
    "    node.upload_file(\"testprogs/TCP_Echo_Server.py\",\"TCP_Echo_Server.py\")\n",
    "    \n",
    "    node.upload_file(\"testprogs/UDP_Ping_Client.py\",\"UDP_Ping_Client.py\")\n",
    "    node.upload_file(\"testprogs/UDP_Ping_Server.py\",\"UDP_Ping_Server.py\")\n",
    "    \n",
    "    node.upload_file(\"testprogs/TCP_Ping_Client.py\",\"TCP_Ping_Client.py\")\n",
    "    node.upload_file(\"testprogs/TCP_Ping_Server.py\",\"TCP_Ping_Server.py\")\n",
    "    "
   ]
  },
  {
   "cell_type": "markdown",
   "id": "fa2f3405-04c5-46ef-abe5-f1cc730c2184",
   "metadata": {},
   "source": [
    "## 2. Run Experiment"
   ]
  },
  {
   "cell_type": "markdown",
   "id": "dcde24c2-c746-43d6-8ef2-ee868726654b",
   "metadata": {},
   "source": [
    "### 2.1 Getting Started\n",
    "\n",
    "1. SSH into each node:\n",
    "    - Go to the [Experiments](https://portal.fabric-testbed.net/experiments) page in the Fabric portal.\n",
    "    - Click on the project for this course\n",
    "    - Click on \"Slices\" (on the lefthand side of the page)\n",
    "    - Click on the \"Lab01_Sockets\" slice. This should bring up a visual representation of your topology.\n",
    "    - For each node:\n",
    "        - Click on that node and copy the provided \"SSH Command\". This should be something like `ssh -F <path to SSH config file> -i <path to private sliver key> ubuntu@205.172.170.122`\n",
    "        - Open a terminal window (either on your local machine or in the JupyterHub) and enter the copied command, replacing `<path to SSH config file>` and `<path to private sliver key>` with the correct paths. For example, on JupyterHub, this would look like `ssh -F ~/work/fabric_config/ssh_config -i ~/work/fabric_config/fabric_sliver_key ubuntu@205.172.170.122`\n",
    "        \n",
    "        \n",
    "2. Find the IP address for each node:\n",
    "    - In the terminal of each node, enter the command `ip addr`.\n",
    "    - You should see an output similar to the following (network addresses will differ):\n",
    "    \n",
    "        ```\n",
    "        1: lo: <LOOPBACK,UP,LOWER_UP> mtu 65536 qdisc noqueue state UNKNOWN group default qlen 1000\n",
    "            link/loopback 00:00:00:00:00:00 brd 00:00:00:00:00:00\n",
    "            inet 127.0.0.1/8 scope host lo\n",
    "               valid_lft forever preferred_lft forever\n",
    "            inet6 ::1/128 scope host \n",
    "               valid_lft forever preferred_lft forever\n",
    "        2: ens3: <BROADCAST,MULTICAST,UP,LOWER_UP> mtu 9000 qdisc fq_codel state UP group default qlen 1000\n",
    "            link/ether fa:16:3e:6b:8d:1c brd ff:ff:ff:ff:ff:ff\n",
    "            inet 10.40.6.228/23 brd 10.40.7.255 scope global dynamic ens3\n",
    "               valid_lft 73414sec preferred_lft 73414sec\n",
    "            inet6 2620:0:c80:1003:f816:3eff:fe6b:8d1c/64 scope global dynamic mngtmpaddr noprefixroute \n",
    "               valid_lft 86397sec preferred_lft 14397sec\n",
    "            inet6 fe80::f816:3eff:fe6b:8d1c/64 scope link \n",
    "               valid_lft forever preferred_lft forever\n",
    "        3: ens7: <BROADCAST,MULTICAST,UP,LOWER_UP> mtu 1500 qdisc mq state UP group default qlen 1000\n",
    "            link/ether 06:70:14:5e:a2:01 brd ff:ff:ff:ff:ff:ff\n",
    "            inet 10.132.129.2/24 scope global ens7\n",
    "               valid_lft forever preferred_lft forever\n",
    "            inet6 fe80::470:14ff:fe5e:a201/64 scope link \n",
    "               valid_lft forever preferred_lft forever\n",
    "        ```\n",
    "    - Look at the entry for interface `ens7`. We will use its IPv4 address, which is the one following the word `inet`. In the example above, this would be `10.132.129.2`.\n",
    "    - Note: if your entry for ens7 does not show an inet address, run the command `sudo ip link set dev ens7 up` and then re-run the `ip addr` command.\n",
    "    - **Record the IP addresses of your client and server nodes in Lab1.docx**"
   ]
  },
  {
   "cell_type": "markdown",
   "id": "d8160613-b4d4-484c-a7bd-8c9f35d241f9",
   "metadata": {},
   "source": [
    "### 2.2 Echo Programs\n",
    "\n",
    "1. Review the code for the `UDP_Echo_Client.py` and `UDP_Echo_Server.py` programs (we will do this together in class). Note that you can use your preferred text editor on your own computer to view copies downloaded from Canvas. Or you can view them on a remote Fabric node using the command `cat <filename>` (e.g. `cat UDP_Echo_Server.py`) to print the file contents to your terminal window.\n",
    "\n",
    "2. Run the UDP_Echo_Server.py program on your Server Node using the command:\n",
    "```\n",
    "python3 UDP_Echo_Server.py\n",
    "```\n",
    "\n",
    "3. Run the UDP_Echo_Client.py program on your Client Node using the command:\n",
    "```\n",
    "python3 UDP_Echo_Client.py -a <Node1_IP_Address>\n",
    "```\n",
    "\n",
    "where `<Node1_IP_Address>` is replaced with the IP address of your Server Node found in the “Getting Started” section above\n",
    "\n",
    "You should be prompted to enter a message. Type in a word/sentence/phrase of your choice and hit enter.\n",
    "\n",
    "The `UDP_Echo_Server.py` program running on your Server Node should receive the message, transform it to all UPPERCASE and echo it back to the client.\n",
    "**Copy and paste the output from your server and client into Lab1.docx**\n",
    "\n",
    "Note that the server will continue to wait for messages until it is manually killed. You can run the client as many times as you want (without stopping the server) and it should receive and echo the message back each time. To stop the server, use CTRL-C to kill the process.\n",
    "\n",
    "4. Repeat steps 1-3 above for `TCP_Echo_Server.py` and `TCP_Echo_Client.py`\n",
    "**Copy and paste the output from your server and client into Lab1.docx**"
   ]
  },
  {
   "cell_type": "markdown",
   "id": "bbea2c1b-5bc4-4fc2-91ae-72082826167f",
   "metadata": {},
   "source": [
    "### 2.3 Ping Programs\n",
    "\n",
    "1. Review the code for the UDP_Ping_Client.py and UDP_Ping_Server.py programs (we will do this together in class).\n",
    "\n",
    "2. Run the UDP_Ping_Server.py program on your Server Node using the command:\n",
    "```\n",
    "python3 UDP_Ping_Server.py\n",
    "```\n",
    "\n",
    "3. Run the UDP_Ping_Client.py program on your Client Node using the command:\n",
    "```\n",
    "python3 UDP_Ping_Client.py -a <Node1_IP_Address>\n",
    "```\n",
    "\n",
    "where `<Node1_IP_Address>` is replaced with the IP address of your Server Node found in the “Getting Started” section above\n",
    "\n",
    "By default, the client will perform 10 “pings”, where for each ping it: 1) sends a message to the server, 2) waits to receive a reply from the server, and 3) reports how long it took to send the message and receive the reply.\n",
    "\n",
    "**Copy and paste the output from your server and client into Lab1.docx**\n",
    "\n",
    "Note that you can change the number of pings performed by passing the `-n` commandline argument to the client program. For example, to do 20 pings:\n",
    "```\n",
    "python3 UDP_Ping_Client.py -a <Node1_IP_Address> -n 20\n",
    "```\n",
    "\n",
    "Note that the server will continue to wait for messages until it is manually killed. You can run the client as many times as you want (without stopping the server) and it should respond to the pings each time. To stop the server, use `CTRL-C` to kill the process.\n",
    "\n",
    "4. Based on the geographic coordinates for your sites, calculate your expected UDP ping time. Use Google Maps to find the distance between your sites and assume the speed of light in fiber is 2x10^8 meters/second.\n",
    "\n",
    "**Show your calculation in Lab1.docx. Compare your calculated value to the measured ping times. Do the results make sense? Explain.**\n",
    "\n",
    "5. Repeat steps 1-3 above for TCP_Ping_Server.py and TCP_Ping_Client.py\n",
    "\n",
    "**Copy and paste the output from your server and client into Lab1.docx**\n",
    "\n",
    "6. Compare your results from running UDP and TCP Ping programs. What differences do you notice? Can you explain them based on what we’ve discussed in class?\n",
    "\n",
    "**Answer in Lab1.docx**"
   ]
  },
  {
   "cell_type": "markdown",
   "id": "15a0c8c6-cf5b-4eaa-aea0-d72dbeb1bd41",
   "metadata": {},
   "source": [
    "### 2.4 Loss Emulation\n",
    "\n",
    "Since we can’t predict whether we will actually encounter packet loss during our experiments, here we will artificially inject loss to examine its effects on our UDP and TCP ping programs\n",
    "\n",
    "1. To create artificial loss, run the following command on your Server Node:\n",
    "```\n",
    "sudo tc qdisc add dev ens7 root netem loss 20%\n",
    "```\n",
    "\n",
    "Don’t worry about the details of this command – its effect is to randomly drop 20% of the packets leaving the server.\n",
    "\n",
    "2. Run the UDP_Ping_Server.py program on your Server Node using the command:\n",
    "```\n",
    "python3 UDP_Ping_Server.py\n",
    "```\n",
    "\n",
    "3. Run the UDP_Ping_Client.py program, pinging 30 times on your Client Node using the command:\n",
    "```\n",
    "python3 UDP_Ping_Client.py -a <Node1_IP_Address> -n 30\n",
    "```\n",
    "\n",
    "where `<Node1_IP_Address>` is replaced with the IP address of your Server Node found in the “Getting Started” section above\n",
    "\n",
    "**Copy and paste the output from your server and client into Lab1.docx**\n",
    "\n",
    "To stop the server, use `CTRL-C` to kill the process\n",
    "\n",
    "4. Repeat steps 2-3 above for TCP_Ping_Server.py and TCP_Ping_Client.py\n",
    "\n",
    "**Copy and paste the output from your server and client into Lab1.docx**\n",
    "\n",
    "5. Remove the emulated loss by running the following command on your Server Node:\n",
    "```\n",
    "sudo tc qdisc del dev ens7 root\n",
    "```\n",
    "\n",
    "6. Examine your results from running UDP and TCP Ping programs. What differences do you notice? Can you explain them based on what we’ve discussed in class?\n",
    "\n",
    "**Answer in Lab1.docx**"
   ]
  },
  {
   "cell_type": "markdown",
   "id": "effb804c-23e4-47c0-beb1-82f33882842c",
   "metadata": {
    "tags": []
   },
   "source": [
    "### Bonus: Persistent TCP Connections\n",
    "\n",
    "In our example TCP_Ping programs, notice that a new TCP connection is created for each ping that is performed. This is similar to how HTTP works when using **non-persistent connections**: a new connection is initiated for **each request+response pair**. In class, we discussed how **persistent connections** could be used instead so that **multiple requests/responses can be sent over the same TCP connection**.\n",
    "\n",
    "To demonstrate the effect of this, you should create a TCP_Ping_Server_Persistent.py and TCP_Ping_Client_Persistent.py that modify the example TCP_Ping_Server.py and TCP_Ping_Client.py programs such that all ping+response messages for a single run of the client program are sent over the **same** TCP connection.\n",
    "\n",
    "Hint 1: Start with the client side. This part should be fairly straightforward and involve moving the socket, connect, and close calls outside of the while loop.\n",
    "\n",
    "Hint 2: After your client sends all of its ping messages (and gets responses for them) it will close the TCP connection. After this point, if the server calls “recv” on the connection socket again, it will return an empty message. In Python, you can check for this condition with:\n",
    "\n",
    "```python\n",
    "message = connection_socket.recv(RECV_BUFFER_SIZE)\n",
    "if not message: # Check for empty message\n",
    "    # Do something\n",
    "```\n",
    "\n",
    "Therefore, each time the server calls recv, it should check whether the connection was closed. If it was, then the server should also close the connection socket. At this point you can choose to quit the server (easier and perfectly fine for our purposes, but not quite as nice), or go back to listening for new connections to accept.\n",
    "\n",
    "1. Run the TCP_Ping_Server_Persistent.py program on your Server using the command:\n",
    "```\n",
    "python3 TCP_Ping_Server_Persistent.py\n",
    "```\n",
    "\n",
    "2. Run the TCP_Ping_Client_Persistent.py program on your Client Node using the command:\n",
    "```\n",
    "python3 TCP_Ping_Client_Persistent.py -a <Node1_IP_Address>\n",
    "```\n",
    "\n",
    "where `<Node1_IP_Address>` is replaced with the IP address of your Server Node found in the “Getting Started” section above\n",
    "\n",
    "**Copy and paste the output from your server and client into Lab1.docx**\n",
    "\n",
    "3. Examine your results from running the persistent and non-persistent TCP Ping programs. What differences do you notice? Can you explain them based on what we’ve discussed in class?\n",
    "\n",
    "**Answer in Lab1.docx**"
   ]
  },
  {
   "cell_type": "markdown",
   "id": "ec710637-76cf-45dd-8da1-bb4f6f465881",
   "metadata": {},
   "source": [
    "## Cleanup Resources\n",
    "\n",
    "Once you have completed the steps above, delete your slice to free up resources for other users. Note: if you stopped the notebook between running the first 3 code cells and getting to this point, you should re-run the first 2 code cells (but not the third) to retrieve the slice before running the following cell."
   ]
  },
  {
   "cell_type": "code",
   "execution_count": null,
   "id": "7917d909-9f50-4dcd-9f92-41edf15fa08f",
   "metadata": {},
   "outputs": [],
   "source": [
    "try:\n",
    "    slice.delete()\n",
    "except Exception as e:\n",
    "    print(f\"Fail: {e}\")"
   ]
  },
  {
   "cell_type": "code",
   "execution_count": null,
   "id": "ca37ce17-a094-4d9a-aa38-1d33acdddbfb",
   "metadata": {},
   "outputs": [],
   "source": []
  }
 ],
 "metadata": {
  "kernelspec": {
   "display_name": "Python 3 (ipykernel)",
   "language": "python",
   "name": "python3"
  },
  "language_info": {
   "codemirror_mode": {
    "name": "ipython",
    "version": 3
   },
   "file_extension": ".py",
   "mimetype": "text/x-python",
   "name": "python",
   "nbconvert_exporter": "python",
   "pygments_lexer": "ipython3",
   "version": "3.11.5"
  }
 },
 "nbformat": 4,
 "nbformat_minor": 5
}
